{
 "cells": [
  {
   "cell_type": "code",
   "execution_count": 1,
   "metadata": {},
   "outputs": [
    {
     "data": {
      "text/plain": [
       "120"
      ]
     },
     "execution_count": 1,
     "metadata": {},
     "output_type": "execute_result"
    }
   ],
   "source": [
    "#Recursion Method of factoral\n",
    "\n",
    "def factoral(n):\n",
    "    if n<=1 :\n",
    "        return 1  \n",
    "    return n* factoral(n-1)\n",
    "factoral(5)    "
   ]
  },
  {
   "cell_type": "code",
   "execution_count": 7,
   "metadata": {},
   "outputs": [
    {
     "data": {
      "text/plain": [
       "120"
      ]
     },
     "execution_count": 7,
     "metadata": {},
     "output_type": "execute_result"
    }
   ],
   "source": [
    "# iterative Method of factoral\n",
    "\n",
    "def iterative_factorial(n) :\n",
    "    if n<=1:\n",
    "        return 1\n",
    "    result = 1\n",
    "    for i in range(1,n+1):\n",
    "        result *= i\n",
    "    return result \n",
    "iterative_factorial(5)"
   ]
  },
  {
   "cell_type": "code",
   "execution_count": 8,
   "metadata": {},
   "outputs": [
    {
     "data": {
      "text/plain": [
       "55"
      ]
     },
     "execution_count": 8,
     "metadata": {},
     "output_type": "execute_result"
    }
   ],
   "source": [
    "#Recursion Method of fibonacci_series\n",
    "\n",
    "def fibonacci_series(n): \n",
    "    FibonacciSeries=[1,1]\n",
    "    for i in range (0,n-2):\n",
    "        FibonacciSeries.append(FibonacciSeries[i]+FibonacciSeries[i+1])\n",
    "    return FibonacciSeries[-1]\n",
    "\n",
    "fibonacci_series(10)"
   ]
  },
  {
   "cell_type": "code",
   "execution_count": 4,
   "metadata": {},
   "outputs": [
    {
     "data": {
      "text/plain": [
       "55"
      ]
     },
     "execution_count": 4,
     "metadata": {},
     "output_type": "execute_result"
    }
   ],
   "source": [
    "# iterative Method of fibonacci_series\n",
    "\n",
    "def iterative_fibonacci_series(n): \n",
    "    if n == 1:\n",
    "        return 1\n",
    "    if n <=2:\n",
    "        return 1 \n",
    "    return iterative_fibonacci_series(n-1)+iterative_fibonacci_series(n-2)\n",
    "iterative_fibonacci_series(10)"
   ]
  },
  {
   "cell_type": "code",
   "execution_count": 9,
   "metadata": {},
   "outputs": [
    {
     "data": {
      "text/plain": [
       "6"
      ]
     },
     "execution_count": 9,
     "metadata": {},
     "output_type": "execute_result"
    }
   ],
   "source": [
    "# Greatest Common Divisor Algorithm \n",
    "\n",
    "def GCD(a,b):\n",
    "    for i in range(1, b+1):\n",
    "        if (a%i==0) and (b%i==0):\n",
    "            GCD = i\n",
    "    return GCD\n",
    "GCD(30,24)"
   ]
  },
  {
   "cell_type": "markdown",
   "metadata": {},
   "source": [
    "# EclideanGCDAlgorithm"
   ]
  },
  {
   "cell_type": "code",
   "execution_count": 154,
   "metadata": {},
   "outputs": [],
   "source": [
    "def EclideanGCDAhgorithm (A,B):\n",
    "    if A == 0:\n",
    "        return B\n",
    "    elif B == 0: \n",
    "        return A\n",
    "    else:\n",
    "        return EclideanGCDAhgorithm(abs(A-B),A)"
   ]
  },
  {
   "cell_type": "code",
   "execution_count": 155,
   "metadata": {},
   "outputs": [
    {
     "data": {
      "text/plain": [
       "6"
      ]
     },
     "execution_count": 155,
     "metadata": {},
     "output_type": "execute_result"
    }
   ],
   "source": [
    "EclideanGCDAhgorithm(54,24)"
   ]
  },
  {
   "cell_type": "markdown",
   "metadata": {},
   "source": [
    "# IterativeEclideanGCDAlgorithm"
   ]
  },
  {
   "cell_type": "code",
   "execution_count": 156,
   "metadata": {},
   "outputs": [],
   "source": [
    "def IterativeGCDAhgorithm(A,B):\n",
    "    while B:\n",
    "        R = A%B \n",
    "        A=B\n",
    "        B=R\n",
    "    return A"
   ]
  },
  {
   "cell_type": "code",
   "execution_count": 157,
   "metadata": {},
   "outputs": [
    {
     "name": "stdout",
     "output_type": "stream",
     "text": [
      "10\n"
     ]
    }
   ],
   "source": [
    "print(IterativeGCDAhgorithm(50,30))"
   ]
  },
  {
   "cell_type": "markdown",
   "metadata": {},
   "source": [
    "# Sorting Algorithm"
   ]
  },
  {
   "cell_type": "markdown",
   "metadata": {},
   "source": [
    "# 1- Insertion Sort"
   ]
  },
  {
   "cell_type": "code",
   "execution_count": 158,
   "metadata": {},
   "outputs": [
    {
     "data": {
      "text/plain": [
       "[1, 2, 3, 4, 5, 6, 7, 8, 9]"
      ]
     },
     "execution_count": 158,
     "metadata": {},
     "output_type": "execute_result"
    }
   ],
   "source": [
    "def IterativeInsertionSortAlgorithm():\n",
    "    arr = [8,5,9,4,1,2,7,3,6]\n",
    "    for i in range(1,len(arr)):\n",
    "        j=i\n",
    "        while j > 0 and arr[j] < arr[j-1]:\n",
    "            arr[j],arr[j-1]=arr[j-1], arr[j]\n",
    "            j-=1\n",
    "    return arr\n",
    "IterativeInsertionSortAlgorithm()"
   ]
  },
  {
   "cell_type": "code",
   "execution_count": 159,
   "metadata": {},
   "outputs": [],
   "source": [
    "arr = [8,5,9,4,1,2,7,3,6]\n",
    "\n",
    "def resuriveInsertionSortAlgorithm(arr,i=0):\n",
    "    if i+1 > len(arr):\n",
    "        return arr\n",
    "    j=i\n",
    "    while j > 0 and arr[j] < arr[j-1]:\n",
    "        arr[j],arr[j-1]=arr[j-1], arr[j]\n",
    "        j-=1\n",
    "#     key=arr[i]\n",
    "#     j= i-1\n",
    "#     while j>=0 and arr[j]>key:\n",
    "#         arr[j+1]=arr[j]\n",
    "#         j-=1\n",
    "#     arr[j+1]=key\n",
    "    i+=1\n",
    "    \n",
    "    return resuriveInsertionSortAlgorithm(arr,i)"
   ]
  },
  {
   "cell_type": "code",
   "execution_count": 160,
   "metadata": {},
   "outputs": [
    {
     "data": {
      "text/plain": [
       "[1, 2, 3, 4, 5, 6, 7, 8, 9]"
      ]
     },
     "execution_count": 160,
     "metadata": {},
     "output_type": "execute_result"
    }
   ],
   "source": [
    "resuriveInsertionSortAlgorithm(arr, 1)"
   ]
  },
  {
   "cell_type": "markdown",
   "metadata": {},
   "source": [
    "# 2- Bubble Sort"
   ]
  },
  {
   "cell_type": "code",
   "execution_count": 163,
   "metadata": {},
   "outputs": [],
   "source": [
    "def iterativeBubbleSort(arr):\n",
    "\n",
    "    for i in range(1, len(arr)):\n",
    "        for j in range (0, len(arr)-i-1):\n",
    "            if arr[j]>arr[j+1]:\n",
    "                arr[j],arr[j+1]=arr[j+1], arr[j]\n",
    "    return arr          "
   ]
  },
  {
   "cell_type": "code",
   "execution_count": 164,
   "metadata": {},
   "outputs": [
    {
     "data": {
      "text/plain": [
       "[1, 2, 3, 4, 5, 6, 7, 8, 9]"
      ]
     },
     "execution_count": 164,
     "metadata": {},
     "output_type": "execute_result"
    }
   ],
   "source": [
    "iterativeBubbleSort(arr)"
   ]
  },
  {
   "cell_type": "markdown",
   "metadata": {},
   "source": [
    "# Linear Search"
   ]
  },
  {
   "cell_type": "code",
   "execution_count": 189,
   "metadata": {},
   "outputs": [],
   "source": [
    "def IterativelinearSearch(arr,x):\n",
    "    for i in range(len(arr)):\n",
    "        if arr[i]==x:\n",
    "            return i\n",
    "    return \"404Error -> Not Found\""
   ]
  },
  {
   "cell_type": "code",
   "execution_count": 190,
   "metadata": {},
   "outputs": [
    {
     "data": {
      "text/plain": [
       "'404Error -> Not Found'"
      ]
     },
     "execution_count": 190,
     "metadata": {},
     "output_type": "execute_result"
    }
   ],
   "source": [
    "arr = [8,5,9,4,1,2,7,3,6]\n",
    "linearSearch(arr,10)"
   ]
  },
  {
   "cell_type": "code",
   "execution_count": 191,
   "metadata": {},
   "outputs": [],
   "source": [
    "arr = [8,5,9,4,1,2,7,3,6]\n",
    "def recursivelinearSearch(arr,i,f,x):\n",
    "    if f < i:\n",
    "        return \"404Error -> Not Found\"\n",
    "    if arr[i]==x:\n",
    "        return i\n",
    "    return recursivelinearSearch(arr,i+1,f-1,x)"
   ]
  },
  {
   "cell_type": "code",
   "execution_count": 192,
   "metadata": {},
   "outputs": [],
   "source": [
    "# arr = [8,5,9,4,1,2,7,3,6]\n",
    "# def recursivelinearSearch(arr,i,x):\n",
    "#     if len(arr) < i:\n",
    "#         return -1\n",
    "#     if arr[i]==x:\n",
    "#         return i\n",
    "#     return recursivelinearSearch(arr,i+1,x)"
   ]
  },
  {
   "cell_type": "code",
   "execution_count": 193,
   "metadata": {},
   "outputs": [
    {
     "data": {
      "text/plain": [
       "'404Error -> Not Found'"
      ]
     },
     "execution_count": 193,
     "metadata": {},
     "output_type": "execute_result"
    }
   ],
   "source": [
    "recursivelinearSearch(arr,0,len(arr)-1,11)"
   ]
  },
  {
   "cell_type": "markdown",
   "metadata": {},
   "source": [
    "# Binary Search"
   ]
  },
  {
   "cell_type": "code",
   "execution_count": 228,
   "metadata": {},
   "outputs": [
    {
     "data": {
      "text/plain": [
       "4"
      ]
     },
     "execution_count": 228,
     "metadata": {},
     "output_type": "execute_result"
    }
   ],
   "source": [
    "arr = [8,5,9,4,1,2,7,3,6]\n",
    "def IterativeBinarySearch(arr,low,high,x):\n",
    "    while low <= high:\n",
    "        mid = low +(high-low)//2\n",
    "        if arr[mid] == x:\n",
    "            return mid\n",
    "        elif arr[mid] < x:\n",
    "            low = mid +1\n",
    "        else :\n",
    "            high = mid -1 \n",
    "    return -1\n",
    "IterativeBinarySearch(arr,0,len(arr)-1,1)"
   ]
  },
  {
   "cell_type": "code",
   "execution_count": 229,
   "metadata": {},
   "outputs": [
    {
     "data": {
      "text/plain": [
       "6"
      ]
     },
     "execution_count": 229,
     "metadata": {},
     "output_type": "execute_result"
    }
   ],
   "source": [
    "IterativeBinarySearch(arr,0,len(arr)-1,7)"
   ]
  },
  {
   "cell_type": "code",
   "execution_count": 233,
   "metadata": {},
   "outputs": [
    {
     "data": {
      "text/plain": [
       "4"
      ]
     },
     "execution_count": 233,
     "metadata": {},
     "output_type": "execute_result"
    }
   ],
   "source": [
    "def recursiveBinarySearch(arr,low,high,x):\n",
    "    if low <= high:\n",
    "        mid = low +(high-low)//2\n",
    "        if arr[mid] == x:\n",
    "            return mid\n",
    "        elif arr[mid] < x:\n",
    "            return recursiveBinarySearch(arr,mid+1,high,x)\n",
    "        else :\n",
    "            return recursiveBinarySearch(arr,low,mid-1,x)\n",
    "    return -1\n",
    "IterativeBinarySearch(arr,0,len(arr)-1,1)"
   ]
  },
  {
   "cell_type": "code",
   "execution_count": null,
   "metadata": {},
   "outputs": [],
   "source": []
  }
 ],
 "metadata": {
  "kernelspec": {
   "display_name": "Python 3",
   "language": "python",
   "name": "python3"
  },
  "language_info": {
   "codemirror_mode": {
    "name": "ipython",
    "version": 3
   },
   "file_extension": ".py",
   "mimetype": "text/x-python",
   "name": "python",
   "nbconvert_exporter": "python",
   "pygments_lexer": "ipython3",
   "version": "3.8.5"
  }
 },
 "nbformat": 4,
 "nbformat_minor": 4
}
